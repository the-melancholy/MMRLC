{
 "cells": [
  {
   "cell_type": "code",
   "execution_count": null,
   "id": "e8317343",
   "metadata": {},
   "outputs": [],
   "source": [
    "import pandas as pd"
   ]
  },
  {
   "cell_type": "code",
   "execution_count": null,
   "id": "be8dd6b5",
   "metadata": {},
   "outputs": [],
   "source": [
    "\n",
    "\n",
    "filename =  r'../resources/labelSupportAll.xlsx'\n",
    "df = pd.read_excel(filename)\n",
    "fromList1 =list(df['fromLib']) \n",
    "toList1 = list(df['toLib'])\n",
    "isConfirmedList = list(df['isConfirmed'])\n",
    "result_1 = list(zip(fromList1,toList1,isConfirmedList))"
   ]
  },
  {
   "cell_type": "code",
   "execution_count": null,
   "id": "51296ea5",
   "metadata": {},
   "outputs": [],
   "source": [
    "# Obtain the top 20 rules for confidence ranking\n",
    "from collections import defaultdict\n",
    "\n",
    "result_2 = defaultdict(list)\n",
    "for x in result_1:\n",
    "    if len(result_2[x[0]]) < 20:\n",
    "        result_2[x[0]].append(x)"
   ]
  },
  {
   "cell_type": "code",
   "execution_count": null,
   "id": "c09c32a9",
   "metadata": {},
   "outputs": [],
   "source": [
    "result_3 = dict(result_2)\n",
    "print(result_3)"
   ]
  },
  {
   "cell_type": "code",
   "execution_count": null,
   "id": "03980f7e",
   "metadata": {},
   "outputs": [],
   "source": [
    "result = list(result_3.values())\n",
    "count=0\n",
    "for item1 in result:\n",
    "    for item2 in item1:\n",
    "        if item2[2]==True:\n",
    "            count+=1\n",
    "print(count)          "
   ]
  },
  {
   "cell_type": "code",
   "execution_count": null,
   "id": "979166d2",
   "metadata": {},
   "outputs": [],
   "source": [
    "num = 773    #  the number of true migration rules\n",
    "recall20= count/num\n",
    "print(recall20)\n"
   ]
  }
 ],
 "metadata": {
  "kernelspec": {
   "display_name": "Python 3 (ipykernel)",
   "language": "python",
   "name": "python3"
  },
  "language_info": {
   "codemirror_mode": {
    "name": "ipython",
    "version": 3
   },
   "file_extension": ".py",
   "mimetype": "text/x-python",
   "name": "python",
   "nbconvert_exporter": "python",
   "pygments_lexer": "ipython3",
   "version": "3.9.18"
  }
 },
 "nbformat": 4,
 "nbformat_minor": 5
}
