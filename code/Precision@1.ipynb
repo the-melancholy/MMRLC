{
 "cells": [
  {
   "cell_type": "code",
   "execution_count": null,
   "id": "915ac767",
   "metadata": {},
   "outputs": [],
   "source": [
    "import pandas as pd"
   ]
  },
  {
   "cell_type": "code",
   "execution_count": null,
   "id": "c60db33a",
   "metadata": {},
   "outputs": [],
   "source": [
    "df = pd.read_excel(r'../resources/ground_truth.xlsx')"
   ]
  },
  {
   "cell_type": "code",
   "execution_count": null,
   "id": "90dd6334",
   "metadata": {},
   "outputs": [],
   "source": [
    "fromIdList =list(df['fromLib']) \n",
    "toIdList = list(df['toLib'])\n",
    "result_1 = list(zip(fromIdList,toIdList))"
   ]
  },
  {
   "cell_type": "code",
   "execution_count": null,
   "id": "50dabfa9",
   "metadata": {},
   "outputs": [],
   "source": [
    "print(len(result_1))\n",
    "print(result_1)"
   ]
  },
  {
   "cell_type": "code",
   "execution_count": null,
   "id": "4a0a3bbc",
   "metadata": {},
   "outputs": [],
   "source": [
    "\n",
    "filename= r'../resources/labelSupportAll.xlsx'\n",
    "df_2 = pd.read_excel(filename)\n",
    "fromIdList2 =list(df_2['fromLib']) \n",
    "toIdList2 = list(df_2['toLib'])\n",
    "result_2= list(zip(fromIdList2,toIdList2))"
   ]
  },
  {
   "cell_type": "code",
   "execution_count": null,
   "id": "3336e5a4",
   "metadata": {},
   "outputs": [],
   "source": [
    "lst = result_2\n",
    "seen = set()\n",
    "result_3 = []\n",
    "# get the candidate migration rules with the highest confidence\n",
    "for item in lst:\n",
    "    if item[0] not in seen:\n",
    "        result_3.append(item)\n",
    "        seen.add(item[0])\n"
   ]
  },
  {
   "cell_type": "code",
   "execution_count": null,
   "id": "4cd1a5f1",
   "metadata": {
    "scrolled": true
   },
   "outputs": [],
   "source": [
    "n = len(result_3) \n",
    "count =0\n",
    "for item in result_3:\n",
    "    if item in result_1:\n",
    "        count +=1\n",
    "print('len(result_3) = ',n)             \n",
    "print('count = ',count)                 \n",
    "                                       \n",
    "top1Precision = count/n                 \n",
    "print('top1Precision = ',top1Precision) \n",
    "                                        \n",
    "    \n",
    "                                                  \n",
    "                                                                        "
   ]
  }
 ],
 "metadata": {
  "kernelspec": {
   "display_name": "Python 3 (ipykernel)",
   "language": "python",
   "name": "python3"
  },
  "language_info": {
   "codemirror_mode": {
    "name": "ipython",
    "version": 3
   },
   "file_extension": ".py",
   "mimetype": "text/x-python",
   "name": "python",
   "nbconvert_exporter": "python",
   "pygments_lexer": "ipython3",
   "version": "3.9.18"
  }
 },
 "nbformat": 4,
 "nbformat_minor": 5
}
