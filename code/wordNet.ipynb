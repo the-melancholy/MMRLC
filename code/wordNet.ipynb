{
 "cells": [
  {
   "cell_type": "code",
   "execution_count": null,
   "id": "b70842cb",
   "metadata": {},
   "outputs": [],
   "source": [
    "'''\n",
    "compute semantic similarity between source library and target library\n",
    "'''"
   ]
  },
  {
   "cell_type": "code",
   "execution_count": null,
   "id": "7382451f",
   "metadata": {},
   "outputs": [],
   "source": [
    "from nltk.corpus import wordnet as wn\n",
    "from nltk.corpus import wordnet_ic\n",
    "from itertools import product\n",
    "import pandas as pd\n",
    "import math"
   ]
  },
  {
   "cell_type": "code",
   "execution_count": null,
   "id": "1b9c16ec",
   "metadata": {},
   "outputs": [],
   "source": [
    "\n",
    "bnc_ic = wordnet_ic.ic('ic-bnc-resnik-add1.dat')"
   ]
  },
  {
   "cell_type": "code",
   "execution_count": null,
   "id": "b3e7a059",
   "metadata": {},
   "outputs": [],
   "source": [
    "df = pd.read_excel(r'../resources/labelSupport.xlsx')\n",
    "fromList = list(df['fromLabels'])\n",
    "toList = list(df['toLabels'])\n",
    "fromLabels=[]\n",
    "toLabels=[]\n",
    "for item in fromList:\n",
    "    fromLabels.append(item.split('/'))\n",
    "for item in toList:\n",
    "    toLabels.append(item.split('/'))\n",
    "\n"
   ]
  },
  {
   "cell_type": "code",
   "execution_count": null,
   "id": "bc9a10c9",
   "metadata": {},
   "outputs": [],
   "source": [
    "fromSet = sorted(set(fromList),key=fromList.index)\n",
    "toSet = sorted(set(toList),key=toList.index)\n",
    "print(len(fromSet))\n",
    "print(len(toSet))\n"
   ]
  },
  {
   "cell_type": "code",
   "execution_count": null,
   "id": "883602f5",
   "metadata": {},
   "outputs": [],
   "source": [
    "labelList=[]\n",
    "for item in fromSet:\n",
    "    labelList.append(item.split('/'))\n",
    "for item in toSet:\n",
    "    labelList.append(item.split('/'))\n",
    "print(len(labelList))\n"
   ]
  },
  {
   "cell_type": "code",
   "execution_count": null,
   "id": "b9a9d96c",
   "metadata": {},
   "outputs": [],
   "source": [
    "\n",
    "def precompute_synsets(labelSentence,syn_dict):\n",
    "    temp=[]\n",
    "    for word in labelSentence:\n",
    "        syns = wn.synsets(word)\n",
    "        if len(syns)==0:\n",
    "            continue\n",
    "        for syn in syns:\n",
    "            temp.append(syn)\n",
    "    syn_dict[labelSentence]=temp\n",
    "    "
   ]
  },
  {
   "cell_type": "code",
   "execution_count": null,
   "id": "fa79ad81",
   "metadata": {},
   "outputs": [],
   "source": [
    "syn_dict = {}\n",
    "for item in labelList:\n",
    "    precompute_synsets(tuple(item),syn_dict)\n"
   ]
  },
  {
   "cell_type": "code",
   "execution_count": null,
   "id": "831793a3",
   "metadata": {},
   "outputs": [],
   "source": [
    "def compute_similarity(labelSentence1,labelSentence2,result):\n",
    "    scores = []\n",
    "    syns1 = syn_dict[tuple(labelSentence1)]   \n",
    "    syns2 = syn_dict[tuple(labelSentence2)]  \n",
    "    for sense1, sense2 in product(syns1, syns2):\n",
    "        if sense1.pos() not in ['n','v'] or sense2.pos() not in ['n','v']:\n",
    "            continue\n",
    "        if sense1.pos()!=sense2.pos():\n",
    "            continue\n",
    "        score = wn.jcn_similarity(sense1, sense2,bnc_ic)\n",
    "        scores.append(score)\n",
    "    if len(scores)!=0:\n",
    "        similarity = max(scores)\n",
    "        result.append(similarity)       \n",
    "    else:\n",
    "        result.append(1)\n",
    "    "
   ]
  },
  {
   "cell_type": "code",
   "execution_count": null,
   "id": "7179f2f1",
   "metadata": {},
   "outputs": [],
   "source": [
    "result = []\n",
    "length = len(fromLabels)\n",
    "for i in range(length):\n",
    "    compute_similarity(fromLabels[i],toLabels[i],result)\n",
    "print(len(result))  "
   ]
  },
  {
   "cell_type": "code",
   "execution_count": null,
   "id": "fe2b9ff0",
   "metadata": {},
   "outputs": [],
   "source": [
    "print(result[:10])"
   ]
  },
  {
   "cell_type": "code",
   "execution_count": null,
   "id": "c82332cc",
   "metadata": {},
   "outputs": [],
   "source": [
    "import pandas as pd\n",
    "data = result\n",
    "df = pd.DataFrame(data,columns=['similarity'])\n",
    "df.to_excel(r'../resources/wordNet.xlsx', index=False)\n"
   ]
  },
  {
   "cell_type": "code",
   "execution_count": null,
   "id": "db839c1d",
   "metadata": {},
   "outputs": [],
   "source": [
    "'''\n",
    "generate confidence2\n",
    "'''"
   ]
  },
  {
   "cell_type": "code",
   "execution_count": null,
   "id": "f8437172",
   "metadata": {},
   "outputs": [],
   "source": [
    "import pandas as pd"
   ]
  },
  {
   "cell_type": "code",
   "execution_count": null,
   "id": "83c79303",
   "metadata": {},
   "outputs": [],
   "source": [
    "df = pd.read_excel(r'../resources/wordnet.xlsx')\n",
    "confidenceList = list(df['confidence'])\n",
    "similarityList = list(df['similarity'])\n",
    "labelSupportList = list(df['labelSupport'])\n",
    "formattedList = []\n"
   ]
  },
  {
   "cell_type": "code",
   "execution_count": null,
   "id": "81cd8d9c",
   "metadata": {},
   "outputs": [],
   "source": [
    "length = len(similarityList)\n",
    "print(length)"
   ]
  },
  {
   "cell_type": "code",
   "execution_count": null,
   "id": "90c38c0c",
   "metadata": {},
   "outputs": [],
   "source": [
    "for i in range(length):\n",
    "    if similarityList[i]==1e+300:\n",
    "        formattedList.append(labelSupportList[i])\n",
    "    else:\n",
    "        formattedList.append(similarityList[i])"
   ]
  },
  {
   "cell_type": "code",
   "execution_count": null,
   "id": "5b88c674",
   "metadata": {},
   "outputs": [],
   "source": [
    "print(len(formattedList))\n",
    "result = []\n",
    "for i in range(length):\n",
    "    result.append(confidenceList[i]*formattedList[i])\n"
   ]
  },
  {
   "cell_type": "code",
   "execution_count": null,
   "id": "d8a6d297",
   "metadata": {},
   "outputs": [],
   "source": [
    "data = result\n",
    "df = pd.DataFrame(data,columns=['confidence2'])\n",
    "df.to_excel(r'../resources/wordNet.xlsx', index=False)"
   ]
  }
 ],
 "metadata": {
  "kernelspec": {
   "display_name": "Python 3 (ipykernel)",
   "language": "python",
   "name": "python3"
  },
  "language_info": {
   "codemirror_mode": {
    "name": "ipython",
    "version": 3
   },
   "file_extension": ".py",
   "mimetype": "text/x-python",
   "name": "python",
   "nbconvert_exporter": "python",
   "pygments_lexer": "ipython3",
   "version": "3.9.18"
  }
 },
 "nbformat": 4,
 "nbformat_minor": 5
}
