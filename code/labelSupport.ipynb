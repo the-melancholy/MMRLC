{
 "cells": [
  {
   "cell_type": "code",
   "execution_count": null,
   "id": "409f6885",
   "metadata": {},
   "outputs": [],
   "source": [
    "'''\n",
    "   generate labelSupport.xlsx\n",
    "'''\n",
    "import pandas as pd"
   ]
  },
  {
   "cell_type": "code",
   "execution_count": null,
   "id": "81ec86eb",
   "metadata": {},
   "outputs": [],
   "source": [
    "df = pd.read_csv(r'../recommend-output.csv')\n",
    "formLibList = list(df['fromLib'])\n",
    "toLibList = list(df['toLib'])"
   ]
  },
  {
   "cell_type": "code",
   "execution_count": null,
   "id": "80d6d37c",
   "metadata": {},
   "outputs": [],
   "source": [
    "labelAll=[]\n",
    "n = len(formLibList)\n",
    "for i in range(n):\n",
    "    item=[]\n",
    "    item.append(formLibList[i])\n",
    "    item.append(toLibList[i])\n",
    "    labelAll.append(item)"
   ]
  },
  {
   "cell_type": "code",
   "execution_count": null,
   "id": "5bd46205",
   "metadata": {},
   "outputs": [],
   "source": [
    "print(len(labelAll))\n",
    "print(labelAll[:10])"
   ]
  },
  {
   "cell_type": "code",
   "execution_count": null,
   "id": "3c26a7d6",
   "metadata": {},
   "outputs": [],
   "source": [
    "df2 = pd.read_csv(r'../resources/lib2labels.csv')"
   ]
  },
  {
   "cell_type": "code",
   "execution_count": null,
   "id": "c2c8c121",
   "metadata": {},
   "outputs": [],
   "source": [
    "libList = list(df2['lib'])\n",
    "labelList = list(df2['labels'])\n",
    "lib2label = []\n",
    "m=len(libList)\n",
    "for i in range(m):\n",
    "    item=[]\n",
    "    item.append(libList[i])\n",
    "    item.append(labelList[i])\n",
    "    lib2label.append(item)"
   ]
  },
  {
   "cell_type": "code",
   "execution_count": null,
   "id": "d274a70a",
   "metadata": {},
   "outputs": [],
   "source": [
    "for item1 in labelAll:\n",
    "    for item2 in lib2label:\n",
    "        if item1[0]==item2[0]:\n",
    "            item1.insert(1,item2[1])\n",
    "            break\n",
    "            \n",
    "        "
   ]
  },
  {
   "cell_type": "code",
   "execution_count": null,
   "id": "45da0daf",
   "metadata": {},
   "outputs": [],
   "source": [
    "for item1 in labelAll:\n",
    "    for item2 in lib2label:\n",
    "        if item1[2]==item2[0]:\n",
    "            item1.insert(3,item2[1])\n",
    "            break"
   ]
  },
  {
   "cell_type": "code",
   "execution_count": null,
   "id": "acce997a",
   "metadata": {},
   "outputs": [],
   "source": [
    "for item in labelAll:\n",
    "    if len(item)<4:\n",
    "        labelAll.remove(item)\n"
   ]
  },
  {
   "cell_type": "code",
   "execution_count": null,
   "id": "c7cb73b3",
   "metadata": {},
   "outputs": [],
   "source": [
    "n = len(labelAll)\n",
    "print(n)\n",
    "print(labelAll[:5])"
   ]
  },
  {
   "cell_type": "code",
   "execution_count": null,
   "id": "d7c62f88",
   "metadata": {},
   "outputs": [],
   "source": [
    "'''\n",
    "    lib with empty labels:\n",
    "    ['org.lwjgl.lwjgl:lwjgl', 'saxon:saxon', 'httpunit:httpunit', 'net.sf.saxon:saxon', 'xalan:xalan', \n",
    "    'jasperreports:jasperreports', 'mockit:jmockit', 'org.jgrapht:jgrapht-core', 'commons-lang:commons-lang', \n",
    "    'woodstox:wstx-asl', 'net.sourceforge.saxon:saxon', 'castor:castor', 'dumbster:dumbster']\n",
    "'''"
   ]
  },
  {
   "cell_type": "code",
   "execution_count": null,
   "id": "e7822320",
   "metadata": {},
   "outputs": [],
   "source": [
    "# Generate labels based on the artifactId for lib with empty labels\n",
    "def label_generate(s):\n",
    "    temp = s.split(':')[-1]\n",
    "    result = temp.replace('-','/')\n",
    "    return result"
   ]
  },
  {
   "cell_type": "code",
   "execution_count": null,
   "id": "2701daa4",
   "metadata": {},
   "outputs": [],
   "source": [
    "for i in range(n):\n",
    "    if type(labelAll[i][1])==type(1.0):\n",
    "        labelAll[i][1]= label_generate(labelAll[i][0])\n",
    "    if type(labelAll[i][3])==type(1.0):\n",
    "        labelAll[i][3]= label_generate(labelAll[i][2])\n",
    "    \n",
    "    \n",
    "     \n",
    "    "
   ]
  },
  {
   "cell_type": "code",
   "execution_count": null,
   "id": "3552df80",
   "metadata": {},
   "outputs": [],
   "source": [
    "# compute Label Concurrency Frequency (LC)\n",
    "def count_common_words(s1, s2):\n",
    "    set1 = set(s1.split('/'))\n",
    "    set2 = set(s2.split('/'))\n",
    "    common_words = set1.intersection(set2)\n",
    "    return len(common_words)"
   ]
  },
  {
   "cell_type": "code",
   "execution_count": null,
   "id": "a3d1bf86",
   "metadata": {},
   "outputs": [],
   "source": [
    "\n",
    "labelFactor = 5\n",
    "for i in range(n):\n",
    "    fromLabel = LabelAll[i][1]\n",
    "    toLabel = LabelAll[i][3]\n",
    "    if type(fromLabel) == type(1.0) or type(toLabel)==type(1.0):\n",
    "        confindence = -1\n",
    "    else:\n",
    "        num = count_common_words(fromLabel,toLabel)\n",
    "        labelSupport = max(1, num * labelFactor)\n",
    "    labelAll[i].append(labelSupport)"
   ]
  },
  {
   "cell_type": "code",
   "execution_count": null,
   "id": "837eddbd",
   "metadata": {},
   "outputs": [],
   "source": [
    "\n",
    "import pandas as pd\n",
    "data = labelAll\n",
    "df = pd.DataFrame(data, columns=['fromLib', 'fromLabels', 'toLib', 'toLabels','labelSupport'])\n",
    "df.to_excel(r'../resources/labelSupport.xlsx', index=False)\n",
    "\n"
   ]
  },
  {
   "cell_type": "code",
   "execution_count": null,
   "id": "1e664287",
   "metadata": {},
   "outputs": [],
   "source": [
    "'''\n",
    "label count: 19143 libraries have labels, totaling 53561 labels\n",
    "'''\n",
    "    "
   ]
  },
  {
   "cell_type": "code",
   "execution_count": null,
   "id": "fd2838b9",
   "metadata": {},
   "outputs": [],
   "source": [
    "import pandas as pd\n",
    "df = pd.read_csv(r'../resources/lib2labels.csv')\n",
    "labels_list = list(df['labels'].dropna())\n",
    "print(len(labels_list))\n",
    "print(labels_list[:10])\n",
    "count = 0\n",
    "for item in labels_list:\n",
    "    count += len(item.split('/'))\n",
    "print(count)  "
   ]
  },
  {
   "cell_type": "code",
   "execution_count": null,
   "id": "90067976",
   "metadata": {},
   "outputs": [],
   "source": [
    "'''\n",
    "compute the proportion of artifactId label \n",
    "'''"
   ]
  },
  {
   "cell_type": "code",
   "execution_count": null,
   "id": "0352d93e",
   "metadata": {},
   "outputs": [],
   "source": [
    "import pandas as pd\n",
    "df = pd.read_csv(r'../resources/lib2labels.csv')\n",
    "libLabelsList = list(zip(df['lib'],df['labels']))\n",
    "print(len(libLabelsList))"
   ]
  },
  {
   "cell_type": "code",
   "execution_count": null,
   "id": "dbb5fe95",
   "metadata": {},
   "outputs": [],
   "source": [
    "'''\n",
    "Multiple executions are required to completely remove null values,or you can add item with labels to a new list. \n",
    "The latter only needs to execute once.\n",
    "''' \n",
    "for item in libLabelsList:\n",
    "    if(item[1] !=item[1]):\n",
    "        libLabelsList.remove(item)\n",
    "    \n"
   ]
  },
  {
   "cell_type": "code",
   "execution_count": null,
   "id": "26ced2c5",
   "metadata": {},
   "outputs": [],
   "source": [
    "print(len(libLabelsList))\n",
    "print(libLabelsList[:10])"
   ]
  },
  {
   "cell_type": "code",
   "execution_count": null,
   "id": "3c5c028b",
   "metadata": {},
   "outputs": [],
   "source": [
    "count = 0\n",
    "for item in libLabelsList:\n",
    "    # get artifactId\n",
    "    lib =item[0].split(':')[1]\n",
    "    # split artifactId according to '-'\n",
    "    libList = lib.split('-')\n",
    "    labelsList = item[1].split('/')\n",
    "    if(not set(libList)&set(labelsList) ):\n",
    "        continue\n",
    "    else:\n",
    "        count +=1\n",
    "\n"
   ]
  },
  {
   "cell_type": "code",
   "execution_count": null,
   "id": "5f1d29db",
   "metadata": {},
   "outputs": [],
   "source": [
    "print(count)\n",
    "print(count/19143)"
   ]
  }
 ],
 "metadata": {
  "kernelspec": {
   "display_name": "Python 3 (ipykernel)",
   "language": "python",
   "name": "python3"
  },
  "language_info": {
   "codemirror_mode": {
    "name": "ipython",
    "version": 3
   },
   "file_extension": ".py",
   "mimetype": "text/x-python",
   "name": "python",
   "nbconvert_exporter": "python",
   "pygments_lexer": "ipython3",
   "version": "3.9.18"
  }
 },
 "nbformat": 4,
 "nbformat_minor": 5
}
