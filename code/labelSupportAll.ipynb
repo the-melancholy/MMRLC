{
 "cells": [
  {
   "cell_type": "code",
   "execution_count": null,
   "id": "d63f6067",
   "metadata": {},
   "outputs": [],
   "source": [
    "import pandas as pd"
   ]
  },
  {
   "cell_type": "code",
   "execution_count": null,
   "id": "adabbaa1",
   "metadata": {},
   "outputs": [],
   "source": [
    "df = pd.read_csv(r'../recommend-output.csv')\n",
    "fromList1 =list(df['fromLib']) \n",
    "toList1 = list(df['toLib'])\n",
    "confindenceList = list(df['confidence'])\n",
    "isConfirmedList = list(df['isConfirmed'])\n",
    "result_1 = list(zip(fromList1,toList1,confindenceList,isConfirmedList))"
   ]
  },
  {
   "cell_type": "code",
   "execution_count": null,
   "id": "2c6f3934",
   "metadata": {},
   "outputs": [],
   "source": [
    "# convert the list into a dictionary to reduce retrieval time\n",
    "result_1_dict = {(item[0], item[1]): [item[2],item[3]] for item in result_1}"
   ]
  },
  {
   "cell_type": "code",
   "execution_count": null,
   "id": "0d309013",
   "metadata": {},
   "outputs": [],
   "source": [
    "print(result_1_dict[('antlr:antlr','org.antlr:antlr4')])"
   ]
  },
  {
   "cell_type": "code",
   "execution_count": null,
   "id": "b0503d3b",
   "metadata": {},
   "outputs": [],
   "source": [
    "df2 = pd.read_excel(r'../resources/labelSupport.xlsx')\n",
    "fromList2 =list(df2['fromLib'])\n",
    "fromLabelList = list(df2['fromLabels'])\n",
    "toList2 = list(df2['toLib'])\n",
    "toLabelList = list(df2['toLabels'])\n",
    "labelSupportList = list(df2['labelSupport'])\n",
    "\n",
    "\n",
    " "
   ]
  },
  {
   "cell_type": "code",
   "execution_count": null,
   "id": "d74460b2",
   "metadata": {},
   "outputs": [],
   "source": [
    "n = len(fromList2)\n",
    "result_2=[]\n",
    "for i in range(n):\n",
    "    temp=[]\n",
    "    temp.append(fromList2[i])\n",
    "    temp.append(fromlabelList[i])\n",
    "    temp.append(toList2[i])\n",
    "    temp.append(tolabelList[i])\n",
    "    temp.append(labelSupportList[i])\n",
    "    result_2.append(temp)\n"
   ]
  },
  {
   "cell_type": "code",
   "execution_count": null,
   "id": "9d713d09",
   "metadata": {},
   "outputs": [],
   "source": [
    "\n",
    "for item in result_2:\n",
    "    key = (item[0], item[2])\n",
    "    if key in result_1_dict:\n",
    "        confidence2 = item[4] * result_1_dict[key][0]\n",
    "        item.append(result_1_dict[key][0])\n",
    "        item.append(confidence2)\n",
    "        item.append(result_1_dict[key][1])\n",
    "        "
   ]
  },
  {
   "cell_type": "code",
   "execution_count": null,
   "id": "c28d285b",
   "metadata": {},
   "outputs": [],
   "source": [
    "print(len(result_2))\n",
    "print( result_2[:5])"
   ]
  },
  {
   "cell_type": "code",
   "execution_count": null,
   "id": "656184e2",
   "metadata": {},
   "outputs": [],
   "source": [
    "import pandas as pd\n",
    "data = result_2\n",
    "df = pd.DataFrame(data, columns=['fromLib', 'fromLabels', 'toLib', 'toLabels','labelSupport',\n",
    "                                 'confidence','confidence2','isConfirmed'])\n",
    "df.to_excel(r'../resources/labelSupportAll.xlsx', index=False)"
   ]
  },
  {
   "cell_type": "code",
   "execution_count": null,
   "id": "bc8c50c8",
   "metadata": {},
   "outputs": [],
   "source": []
  }
 ],
 "metadata": {
  "kernelspec": {
   "display_name": "Python 3 (ipykernel)",
   "language": "python",
   "name": "python3"
  },
  "language_info": {
   "codemirror_mode": {
    "name": "ipython",
    "version": 3
   },
   "file_extension": ".py",
   "mimetype": "text/x-python",
   "name": "python",
   "nbconvert_exporter": "python",
   "pygments_lexer": "ipython3",
   "version": "3.9.18"
  }
 },
 "nbformat": 4,
 "nbformat_minor": 5
}
