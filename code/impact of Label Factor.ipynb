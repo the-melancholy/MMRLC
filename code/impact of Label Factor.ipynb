{
 "cells": [
  {
   "cell_type": "code",
   "execution_count": null,
   "id": "66deca4a",
   "metadata": {},
   "outputs": [],
   "source": [
    "'''\n",
    "Label Support corresponding to different Label Factors\n",
    "'''"
   ]
  },
  {
   "cell_type": "code",
   "execution_count": null,
   "id": "f9481a0a",
   "metadata": {},
   "outputs": [],
   "source": [
    "import pandas as pd"
   ]
  },
  {
   "cell_type": "code",
   "execution_count": null,
   "id": "f6a5b8fb",
   "metadata": {},
   "outputs": [],
   "source": [
    "df = pd.read_excel(r'../resources/labelSupportAllOther.xlsx')\n",
    "tagSupportList = list(df['labelSupport'])\n",
    "hconfList = list(df['hconf'])\n",
    "confidence3List = list(df['confidence3'])"
   ]
  },
  {
   "cell_type": "code",
   "execution_count": null,
   "id": "9f2be8a3",
   "metadata": {},
   "outputs": [],
   "source": [
    "n = len(confidence3List)\n",
    "print(n)"
   ]
  },
  {
   "cell_type": "code",
   "execution_count": null,
   "id": "498b6caf",
   "metadata": {},
   "outputs": [],
   "source": [
    "print(hconfList[:10])\n",
    "print(confidence3List[:10])"
   ]
  },
  {
   "cell_type": "code",
   "execution_count": null,
   "id": "415aa563",
   "metadata": {},
   "outputs": [],
   "source": [
    "list1=[]\n",
    "list5=[]\n",
    "list7=[]\n",
    "for i in range(n):\n",
    "    if hconfList[i] == confidence3List[i]: \n",
    "        list1.append(hconfList[i])\n",
    "        list5.append(hconfList[i])\n",
    "        list7.append(hconfList[i])\n",
    "    else:\n",
    "        num = tagSupportList[i] /3\n",
    "        list1.append(num*hconfList[i])\n",
    "        list5.append(num*5*hconfList[i])\n",
    "        list7.append(num*7*hconfList[i])\n",
    "    "
   ]
  },
  {
   "cell_type": "code",
   "execution_count": null,
   "id": "b118ff11",
   "metadata": {},
   "outputs": [],
   "source": [
    "print(len(list5))\n",
    "print(list5[:10])\n",
    "print(len(list7))\n",
    "print(list7[:10])"
   ]
  },
  {
   "cell_type": "code",
   "execution_count": null,
   "id": "c50b669a",
   "metadata": {},
   "outputs": [],
   "source": [
    "df['confidence1'] = list1\n",
    "df['confidence5'] = list5\n",
    "df['confidence7'] = list7\n",
    "df.to_excel(r'../resources/labelSupportAllOther.xlsx', index=False)\n"
   ]
  }
 ],
 "metadata": {
  "kernelspec": {
   "display_name": "Python 3 (ipykernel)",
   "language": "python",
   "name": "python3"
  },
  "language_info": {
   "codemirror_mode": {
    "name": "ipython",
    "version": 3
   },
   "file_extension": ".py",
   "mimetype": "text/x-python",
   "name": "python",
   "nbconvert_exporter": "python",
   "pygments_lexer": "ipython3",
   "version": "3.9.18"
  }
 },
 "nbformat": 4,
 "nbformat_minor": 5
}
